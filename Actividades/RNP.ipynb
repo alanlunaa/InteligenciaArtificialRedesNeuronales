{
  "nbformat": 4,
  "nbformat_minor": 0,
  "metadata": {
    "colab": {
      "provenance": [],
      "toc_visible": true,
      "include_colab_link": true
    },
    "kernelspec": {
      "name": "python3",
      "display_name": "Python 3"
    },
    "language_info": {
      "name": "python"
    }
  },
  "cells": [
    {
      "cell_type": "markdown",
      "metadata": {
        "id": "view-in-github",
        "colab_type": "text"
      },
      "source": [
        "<a href=\"https://colab.research.google.com/github/alanlunaa/InteligenciaArtificialRedesNeuronales/blob/main/Actividades/RNP.ipynb\" target=\"_parent\"><img src=\"https://colab.research.google.com/assets/colab-badge.svg\" alt=\"Open In Colab\"/></a>"
      ]
    },
    {
      "cell_type": "code",
      "execution_count": null,
      "metadata": {
        "id": "IpOosqSVHGTU"
      },
      "outputs": [],
      "source": []
    },
    {
      "cell_type": "markdown",
      "source": [
        "Actividad 8: Uso de software para búsqueda.\n",
        "KAREN ALEJANDRA MORALES ARGÜELLO  1968746\n",
        "AYLIN YAMILETH JUAREZ PESINA      2082515\n",
        "ALAN LUNA MATTA                   2035358\n",
        "MARIANA MARTINEZ ORTIZ            2077350\n",
        "N4"
      ],
      "metadata": {
        "id": "vMMhqgNeHM57"
      }
    },
    {
      "cell_type": "code",
      "source": [
        "import tensorflow as tf\n",
        "from tensorflow.keras.models import Sequential\n",
        "from tensorflow.keras.layers import Dense, Flatten\n",
        "from tensorflow.keras.datasets import mnist\n",
        "from tensorflow.keras.utils import to_categorical\n",
        "import numpy as np\n",
        "\n",
        "# Cargar el conjunto de datos MNIST\n",
        "(train_data, train_labels), (test_data, test_labels) = mnist.load_data()\n",
        "\n",
        "# Normalizar los datos dividiendo por 255 para que los valores estén entre 0 y 1\n",
        "train_data = train_data / 255.0\n",
        "test_data = test_data / 255.0\n",
        "\n",
        "# Convertir las etiquetas en categorías (one-hot encoding)\n",
        "train_labels = to_categorical(train_labels)\n",
        "test_labels = to_categorical(test_labels)\n",
        "\n",
        "# Definir la estructura de la red neuronal\n",
        "model = Sequential([\n",
        "    Flatten(input_shape=(28, 28)),  # Aplana la imagen 28x28 a un vector de 784 elementos\n",
        "    Dense(128, activation='relu'),  # Capa oculta con 128 neuronas y activación ReLU\n",
        "    Dense(10, activation='softmax') # Capa de salida con 10 neuronas (una por dígito) y activación softmax\n",
        "])\n",
        "\n",
        "# Compilar el modelo\n",
        "model.compile(optimizer='adam',              # Optimizador Adam\n",
        "              loss='categorical_crossentropy', # Función de pérdida\n",
        "              metrics=['accuracy'])           # Métrica de exactitud\n",
        "\n",
        "# Entrenar el modelo\n",
        "model.fit(train_data, train_labels, epochs=10, batch_size=32, validation_split=0.2)\n",
        "\n",
        "# Evaluar el modelo en el conjunto de datos de prueba\n",
        "test_loss, test_accuracy = model.evaluate(test_data, test_labels)\n",
        "print(f'Exactitud en el conjunto de prueba: {test_accuracy:.2f}')\n",
        "\n",
        "# Realizar cinco predicciones en el conjunto de prueba\n",
        "predictions = model.predict(test_data[:5])\n",
        "\n",
        "# Mostrar predicciones y valores reales\n",
        "for i in range(5):\n",
        "    predicted_label = np.argmax(predictions[i])\n",
        "    true_label = np.argmax(test_labels[i])\n",
        "    print(f'Predicción: {predicted_label}, Valor real: {true_label}')\n"
      ],
      "metadata": {
        "colab": {
          "base_uri": "https://localhost:8080/"
        },
        "id": "RJxptACdJxcR",
        "outputId": "4cc9beef-93df-4677-c40b-02db7bce9939"
      },
      "execution_count": 1,
      "outputs": [
        {
          "output_type": "stream",
          "name": "stdout",
          "text": [
            "Downloading data from https://storage.googleapis.com/tensorflow/tf-keras-datasets/mnist.npz\n",
            "\u001b[1m11490434/11490434\u001b[0m \u001b[32m━━━━━━━━━━━━━━━━━━━━\u001b[0m\u001b[37m\u001b[0m \u001b[1m0s\u001b[0m 0us/step\n"
          ]
        },
        {
          "output_type": "stream",
          "name": "stderr",
          "text": [
            "/usr/local/lib/python3.10/dist-packages/keras/src/layers/reshaping/flatten.py:37: UserWarning: Do not pass an `input_shape`/`input_dim` argument to a layer. When using Sequential models, prefer using an `Input(shape)` object as the first layer in the model instead.\n",
            "  super().__init__(**kwargs)\n"
          ]
        },
        {
          "output_type": "stream",
          "name": "stdout",
          "text": [
            "Epoch 1/10\n",
            "\u001b[1m1500/1500\u001b[0m \u001b[32m━━━━━━━━━━━━━━━━━━━━\u001b[0m\u001b[37m\u001b[0m \u001b[1m12s\u001b[0m 6ms/step - accuracy: 0.8614 - loss: 0.4788 - val_accuracy: 0.9582 - val_loss: 0.1531\n",
            "Epoch 2/10\n",
            "\u001b[1m1500/1500\u001b[0m \u001b[32m━━━━━━━━━━━━━━━━━━━━\u001b[0m\u001b[37m\u001b[0m \u001b[1m9s\u001b[0m 5ms/step - accuracy: 0.9599 - loss: 0.1377 - val_accuracy: 0.9629 - val_loss: 0.1221\n",
            "Epoch 3/10\n",
            "\u001b[1m1500/1500\u001b[0m \u001b[32m━━━━━━━━━━━━━━━━━━━━\u001b[0m\u001b[37m\u001b[0m \u001b[1m6s\u001b[0m 4ms/step - accuracy: 0.9733 - loss: 0.0929 - val_accuracy: 0.9702 - val_loss: 0.1031\n",
            "Epoch 4/10\n",
            "\u001b[1m1500/1500\u001b[0m \u001b[32m━━━━━━━━━━━━━━━━━━━━\u001b[0m\u001b[37m\u001b[0m \u001b[1m10s\u001b[0m 4ms/step - accuracy: 0.9810 - loss: 0.0633 - val_accuracy: 0.9700 - val_loss: 0.0993\n",
            "Epoch 5/10\n",
            "\u001b[1m1500/1500\u001b[0m \u001b[32m━━━━━━━━━━━━━━━━━━━━\u001b[0m\u001b[37m\u001b[0m \u001b[1m10s\u001b[0m 4ms/step - accuracy: 0.9853 - loss: 0.0479 - val_accuracy: 0.9736 - val_loss: 0.0911\n",
            "Epoch 6/10\n",
            "\u001b[1m1500/1500\u001b[0m \u001b[32m━━━━━━━━━━━━━━━━━━━━\u001b[0m\u001b[37m\u001b[0m \u001b[1m12s\u001b[0m 5ms/step - accuracy: 0.9898 - loss: 0.0357 - val_accuracy: 0.9729 - val_loss: 0.0967\n",
            "Epoch 7/10\n",
            "\u001b[1m1500/1500\u001b[0m \u001b[32m━━━━━━━━━━━━━━━━━━━━\u001b[0m\u001b[37m\u001b[0m \u001b[1m6s\u001b[0m 4ms/step - accuracy: 0.9917 - loss: 0.0283 - val_accuracy: 0.9744 - val_loss: 0.0907\n",
            "Epoch 8/10\n",
            "\u001b[1m1500/1500\u001b[0m \u001b[32m━━━━━━━━━━━━━━━━━━━━\u001b[0m\u001b[37m\u001b[0m \u001b[1m10s\u001b[0m 4ms/step - accuracy: 0.9939 - loss: 0.0211 - val_accuracy: 0.9753 - val_loss: 0.0865\n",
            "Epoch 9/10\n",
            "\u001b[1m1500/1500\u001b[0m \u001b[32m━━━━━━━━━━━━━━━━━━━━\u001b[0m\u001b[37m\u001b[0m \u001b[1m10s\u001b[0m 4ms/step - accuracy: 0.9945 - loss: 0.0168 - val_accuracy: 0.9755 - val_loss: 0.0917\n",
            "Epoch 10/10\n",
            "\u001b[1m1500/1500\u001b[0m \u001b[32m━━━━━━━━━━━━━━━━━━━━\u001b[0m\u001b[37m\u001b[0m \u001b[1m8s\u001b[0m 5ms/step - accuracy: 0.9958 - loss: 0.0152 - val_accuracy: 0.9762 - val_loss: 0.0948\n",
            "\u001b[1m313/313\u001b[0m \u001b[32m━━━━━━━━━━━━━━━━━━━━\u001b[0m\u001b[37m\u001b[0m \u001b[1m1s\u001b[0m 2ms/step - accuracy: 0.9713 - loss: 0.0963\n",
            "Exactitud en el conjunto de prueba: 0.98\n",
            "\u001b[1m1/1\u001b[0m \u001b[32m━━━━━━━━━━━━━━━━━━━━\u001b[0m\u001b[37m\u001b[0m \u001b[1m0s\u001b[0m 52ms/step\n",
            "Predicción: 7, Valor real: 7\n",
            "Predicción: 2, Valor real: 2\n",
            "Predicción: 1, Valor real: 1\n",
            "Predicción: 0, Valor real: 0\n",
            "Predicción: 4, Valor real: 4\n"
          ]
        }
      ]
    }
  ]
}