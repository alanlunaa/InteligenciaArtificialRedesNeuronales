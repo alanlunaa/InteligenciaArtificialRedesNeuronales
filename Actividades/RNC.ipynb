{
  "nbformat": 4,
  "nbformat_minor": 0,
  "metadata": {
    "colab": {
      "provenance": [],
      "include_colab_link": true
    },
    "kernelspec": {
      "name": "python3",
      "display_name": "Python 3"
    },
    "language_info": {
      "name": "python"
    }
  },
  "cells": [
    {
      "cell_type": "markdown",
      "metadata": {
        "id": "view-in-github",
        "colab_type": "text"
      },
      "source": [
        "<a href=\"https://colab.research.google.com/github/alanlunaa/InteligenciaArtificialRedesNeuronales/blob/main/Actividades/RNC.ipynb\" target=\"_parent\"><img src=\"https://colab.research.google.com/assets/colab-badge.svg\" alt=\"Open In Colab\"/></a>"
      ]
    },
    {
      "cell_type": "markdown",
      "source": [
        " KAREN ALEJANDRA MORALES ARGÜELLO 1968746 AYLIN YAMILETH JUAREZ PESINA 2082515 ALAN LUNA MATTA 2035358 MARIANA MARTINEZ ORTIZ 2077350"
      ],
      "metadata": {
        "id": "zfAHfO5SaHH-"
      }
    },
    {
      "cell_type": "code",
      "source": [
        "# Importar las librerías necesarias\n",
        "import tensorflow as tf\n",
        "from tensorflow.keras.datasets import mnist\n",
        "from tensorflow.keras.models import Sequential\n",
        "from tensorflow.keras.layers import Conv2D, MaxPooling2D, Flatten, Dense\n",
        "from tensorflow.keras.utils import to_categorical\n",
        "import numpy as np\n",
        "\n",
        "# Cargar el conjunto de datos MNIST\n",
        "(train_data, train_labels), (test_data, test_labels) = mnist.load_data()\n",
        "\n",
        "# Preprocesamiento de los datos\n",
        "train_data = train_data.reshape((train_data.shape[0], 28, 28, 1)).astype('float32') / 255\n",
        "test_data = test_data.reshape((test_data.shape[0], 28, 28, 1)).astype('float32') / 255\n",
        "train_labels = to_categorical(train_labels)\n",
        "test_labels = to_categorical(test_labels)\n",
        "\n",
        "# Construcción del modelo de Red Neuronal Convolucional\n",
        "model = Sequential([\n",
        "    Conv2D(32, kernel_size=(3, 3), activation='relu', input_shape=(28, 28, 1)),\n",
        "    MaxPooling2D(pool_size=(2, 2)),\n",
        "    Conv2D(64, kernel_size=(3, 3), activation='relu'),\n",
        "    MaxPooling2D(pool_size=(2, 2)),\n",
        "    Flatten(),\n",
        "    Dense(128, activation='relu'),\n",
        "    Dense(10, activation='softmax')  # Capa de salida con activación softmax\n",
        "])\n",
        "\n",
        "# Compilación del modelo\n",
        "model.compile(optimizer='adam', loss='categorical_crossentropy', metrics=['accuracy'])\n",
        "\n",
        "# Entrenamiento del modelo\n",
        "epochs = 10\n",
        "history = model.fit(train_data, train_labels, epochs=epochs, batch_size=128, validation_split=0.2)\n",
        "\n",
        "# Evaluar el modelo con el conjunto de datos de prueba\n",
        "test_loss, test_accuracy = model.evaluate(test_data, test_labels)\n",
        "print(f\"Exactitud en el conjunto de prueba: {test_accuracy * 100:.2f}%\")\n",
        "\n",
        "# Realizar 5 predicciones\n",
        "for i in range(5):\n",
        "    index = np.random.randint(0, test_data.shape[0])\n",
        "    sample = test_data[index:index+1]\n",
        "    prediction = model.predict(sample)\n",
        "    predicted_label = np.argmax(prediction)\n",
        "    actual_label = np.argmax(test_labels[index])\n",
        "    print(f\"Predicción: {predicted_label}, Valor real: {actual_label}\")\n"
      ],
      "metadata": {
        "colab": {
          "base_uri": "https://localhost:8080/"
        },
        "id": "OTMez3V2aJ_P",
        "outputId": "466e2fe6-688e-4e7c-9873-6a6253fa55a2"
      },
      "execution_count": null,
      "outputs": [
        {
          "output_type": "stream",
          "name": "stdout",
          "text": [
            "Downloading data from https://storage.googleapis.com/tensorflow/tf-keras-datasets/mnist.npz\n",
            "\u001b[1m11490434/11490434\u001b[0m \u001b[32m━━━━━━━━━━━━━━━━━━━━\u001b[0m\u001b[37m\u001b[0m \u001b[1m0s\u001b[0m 0us/step\n"
          ]
        },
        {
          "output_type": "stream",
          "name": "stderr",
          "text": [
            "/usr/local/lib/python3.10/dist-packages/keras/src/layers/convolutional/base_conv.py:107: UserWarning: Do not pass an `input_shape`/`input_dim` argument to a layer. When using Sequential models, prefer using an `Input(shape)` object as the first layer in the model instead.\n",
            "  super().__init__(activity_regularizer=activity_regularizer, **kwargs)\n"
          ]
        },
        {
          "output_type": "stream",
          "name": "stdout",
          "text": [
            "Epoch 1/10\n",
            "\u001b[1m375/375\u001b[0m \u001b[32m━━━━━━━━━━━━━━━━━━━━\u001b[0m\u001b[37m\u001b[0m \u001b[1m54s\u001b[0m 136ms/step - accuracy: 0.8303 - loss: 0.5580 - val_accuracy: 0.9784 - val_loss: 0.0769\n",
            "Epoch 2/10\n",
            "\u001b[1m375/375\u001b[0m \u001b[32m━━━━━━━━━━━━━━━━━━━━\u001b[0m\u001b[37m\u001b[0m \u001b[1m76s\u001b[0m 121ms/step - accuracy: 0.9805 - loss: 0.0647 - val_accuracy: 0.9847 - val_loss: 0.0508\n",
            "Epoch 3/10\n",
            "\u001b[1m375/375\u001b[0m \u001b[32m━━━━━━━━━━━━━━━━━━━━\u001b[0m\u001b[37m\u001b[0m \u001b[1m45s\u001b[0m 119ms/step - accuracy: 0.9861 - loss: 0.0432 - val_accuracy: 0.9863 - val_loss: 0.0491\n",
            "Epoch 4/10\n",
            "\u001b[1m375/375\u001b[0m \u001b[32m━━━━━━━━━━━━━━━━━━━━\u001b[0m\u001b[37m\u001b[0m \u001b[1m85s\u001b[0m 128ms/step - accuracy: 0.9887 - loss: 0.0323 - val_accuracy: 0.9869 - val_loss: 0.0446\n",
            "Epoch 5/10\n",
            "\u001b[1m375/375\u001b[0m \u001b[32m━━━━━━━━━━━━━━━━━━━━\u001b[0m\u001b[37m\u001b[0m \u001b[1m46s\u001b[0m 123ms/step - accuracy: 0.9925 - loss: 0.0219 - val_accuracy: 0.9876 - val_loss: 0.0397\n",
            "Epoch 6/10\n",
            "\u001b[1m375/375\u001b[0m \u001b[32m━━━━━━━━━━━━━━━━━━━━\u001b[0m\u001b[37m\u001b[0m \u001b[1m79s\u001b[0m 116ms/step - accuracy: 0.9952 - loss: 0.0160 - val_accuracy: 0.9888 - val_loss: 0.0417\n",
            "Epoch 7/10\n",
            "\u001b[1m375/375\u001b[0m \u001b[32m━━━━━━━━━━━━━━━━━━━━\u001b[0m\u001b[37m\u001b[0m \u001b[1m46s\u001b[0m 122ms/step - accuracy: 0.9958 - loss: 0.0143 - val_accuracy: 0.9882 - val_loss: 0.0450\n",
            "Epoch 8/10\n",
            "\u001b[1m375/375\u001b[0m \u001b[32m━━━━━━━━━━━━━━━━━━━━\u001b[0m\u001b[37m\u001b[0m \u001b[1m80s\u001b[0m 117ms/step - accuracy: 0.9962 - loss: 0.0119 - val_accuracy: 0.9901 - val_loss: 0.0370\n",
            "Epoch 9/10\n",
            "\u001b[1m375/375\u001b[0m \u001b[32m━━━━━━━━━━━━━━━━━━━━\u001b[0m\u001b[37m\u001b[0m \u001b[1m82s\u001b[0m 118ms/step - accuracy: 0.9974 - loss: 0.0084 - val_accuracy: 0.9893 - val_loss: 0.0407\n",
            "Epoch 10/10\n",
            "\u001b[1m375/375\u001b[0m \u001b[32m━━━━━━━━━━━━━━━━━━━━\u001b[0m\u001b[37m\u001b[0m \u001b[1m80s\u001b[0m 114ms/step - accuracy: 0.9978 - loss: 0.0069 - val_accuracy: 0.9889 - val_loss: 0.0423\n",
            "\u001b[1m313/313\u001b[0m \u001b[32m━━━━━━━━━━━━━━━━━━━━\u001b[0m\u001b[37m\u001b[0m \u001b[1m4s\u001b[0m 11ms/step - accuracy: 0.9871 - loss: 0.0391\n",
            "Exactitud en el conjunto de prueba: 99.06%\n",
            "\u001b[1m1/1\u001b[0m \u001b[32m━━━━━━━━━━━━━━━━━━━━\u001b[0m\u001b[37m\u001b[0m \u001b[1m0s\u001b[0m 99ms/step\n",
            "Predicción: 3, Valor real: 3\n",
            "\u001b[1m1/1\u001b[0m \u001b[32m━━━━━━━━━━━━━━━━━━━━\u001b[0m\u001b[37m\u001b[0m \u001b[1m0s\u001b[0m 28ms/step\n",
            "Predicción: 8, Valor real: 8\n",
            "\u001b[1m1/1\u001b[0m \u001b[32m━━━━━━━━━━━━━━━━━━━━\u001b[0m\u001b[37m\u001b[0m \u001b[1m0s\u001b[0m 27ms/step\n",
            "Predicción: 6, Valor real: 6\n",
            "\u001b[1m1/1\u001b[0m \u001b[32m━━━━━━━━━━━━━━━━━━━━\u001b[0m\u001b[37m\u001b[0m \u001b[1m0s\u001b[0m 22ms/step\n",
            "Predicción: 6, Valor real: 6\n",
            "\u001b[1m1/1\u001b[0m \u001b[32m━━━━━━━━━━━━━━━━━━━━\u001b[0m\u001b[37m\u001b[0m \u001b[1m0s\u001b[0m 22ms/step\n",
            "Predicción: 9, Valor real: 9\n"
          ]
        }
      ]
    },
    {
      "cell_type": "markdown",
      "source": [
        "¿Cuántas épocas usaste para mejorar el rendimiento del modelo en comparación con la red neuronal prealimentada de la actividad 5?"
      ],
      "metadata": {
        "id": "BDvJUYmVdUW4"
      }
    },
    {
      "cell_type": "markdown",
      "source": [
        "Utilizamos 10 épocas para entrenar este modelo de red neuronal convolucional. Esto es porque las redes convolucionales suelen tener un rendimiento más alto en la clasificación de imágenes, como en el caso de los dígitos escritos a mano, y pueden converger en menos épocas que una red neuronal prealimentada sin capas convolucionales."
      ],
      "metadata": {
        "id": "emp9meZXdcp0"
      }
    },
    {
      "cell_type": "markdown",
      "source": [
        "¿Obtuviste un mejor rendimiento con este modelo o con el de la actividad 5? ¿Por qué?"
      ],
      "metadata": {
        "id": "j9mlzciPdimy"
      }
    },
    {
      "cell_type": "markdown",
      "source": [
        "Obtuve un mejor rendimiento con este modelo de red neuronal convolucional en comparación con la red neuronal prealimentada de la actividad 5. Esto se debe a que las redes convolucionales están especialmente diseñadas para trabajar con datos de imagen; sus capas convolucionales permiten detectar características espaciales y patrones en los datos"
      ],
      "metadata": {
        "id": "htYoEmYRdk80"
      }
    },
    {
      "cell_type": "markdown",
      "source": [],
      "metadata": {
        "id": "1UM6z4SrdtkX"
      }
    }
  ]
}